{
 "cells": [
  {
   "cell_type": "code",
   "execution_count": 149,
   "id": "8975074e-45fa-43ad-b613-0104ef236905",
   "metadata": {},
   "outputs": [],
   "source": [
    "import h5py\n",
    "import pandas as pd"
   ]
  },
  {
   "cell_type": "markdown",
   "id": "3099239b-a84a-4324-bae9-bab74ffce85a",
   "metadata": {},
   "source": [
    "We first take a random song to see the data structure of it"
   ]
  },
  {
   "cell_type": "code",
   "execution_count": 68,
   "id": "01a003c1-78b1-4ed0-b9c3-d7dd2cd6aa95",
   "metadata": {},
   "outputs": [],
   "source": [
    "path = 'D:/songdata/MillionSongSubset/A/O/G/TRAOGTM128F931FABE.h5'\n",
    "f = h5py.File(path, 'r')"
   ]
  },
  {
   "cell_type": "code",
   "execution_count": 37,
   "id": "c02faff2-8c32-4f5d-a5cc-2c75dd5604cb",
   "metadata": {},
   "outputs": [
    {
     "data": {
      "text/plain": [
       "['analysis', 'metadata', 'musicbrainz']"
      ]
     },
     "execution_count": 37,
     "metadata": {},
     "output_type": "execute_result"
    }
   ],
   "source": [
    "list(f.keys())"
   ]
  },
  {
   "cell_type": "markdown",
   "id": "d8ade474-81af-4451-8bea-5a95a69d8d94",
   "metadata": {},
   "source": [
    "Three main groups"
   ]
  },
  {
   "cell_type": "code",
   "execution_count": 38,
   "id": "f8ee0d93-ee5d-49c0-bf7a-4a88ea71bb99",
   "metadata": {},
   "outputs": [
    {
     "data": {
      "text/plain": [
       "('/analysis', '/metadata', '/musicbrainz')"
      ]
     },
     "execution_count": 38,
     "metadata": {},
     "output_type": "execute_result"
    }
   ],
   "source": [
    "f['analysis'].name,f['metadata'].name,f['musicbrainz'].name"
   ]
  },
  {
   "cell_type": "markdown",
   "id": "1599b9f5-405d-490f-a2f5-c95531649400",
   "metadata": {},
   "source": [
    "### Check 'analysis'"
   ]
  },
  {
   "cell_type": "code",
   "execution_count": 39,
   "id": "8bc9cef4-1fa7-4029-bd38-cb5a5c13dcd9",
   "metadata": {},
   "outputs": [
    {
     "data": {
      "text/plain": [
       "{'bars_confidence': <HDF5 dataset \"bars_confidence\": shape (210,), type \"<f8\">,\n",
       " 'bars_start': <HDF5 dataset \"bars_start\": shape (210,), type \"<f8\">,\n",
       " 'beats_confidence': <HDF5 dataset \"beats_confidence\": shape (633,), type \"<f8\">,\n",
       " 'beats_start': <HDF5 dataset \"beats_start\": shape (633,), type \"<f8\">,\n",
       " 'sections_confidence': <HDF5 dataset \"sections_confidence\": shape (13,), type \"<f8\">,\n",
       " 'sections_start': <HDF5 dataset \"sections_start\": shape (13,), type \"<f8\">,\n",
       " 'segments_confidence': <HDF5 dataset \"segments_confidence\": shape (835,), type \"<f8\">,\n",
       " 'segments_loudness_max': <HDF5 dataset \"segments_loudness_max\": shape (835,), type \"<f8\">,\n",
       " 'segments_loudness_max_time': <HDF5 dataset \"segments_loudness_max_time\": shape (835,), type \"<f8\">,\n",
       " 'segments_loudness_start': <HDF5 dataset \"segments_loudness_start\": shape (835,), type \"<f8\">,\n",
       " 'segments_pitches': <HDF5 dataset \"segments_pitches\": shape (835, 12), type \"<f8\">,\n",
       " 'segments_start': <HDF5 dataset \"segments_start\": shape (835,), type \"<f8\">,\n",
       " 'segments_timbre': <HDF5 dataset \"segments_timbre\": shape (835, 12), type \"<f8\">,\n",
       " 'songs': <HDF5 dataset \"songs\": shape (1,), type \"|V220\">,\n",
       " 'tatums_confidence': <HDF5 dataset \"tatums_confidence\": shape (1266,), type \"<f8\">,\n",
       " 'tatums_start': <HDF5 dataset \"tatums_start\": shape (1266,), type \"<f8\">}"
      ]
     },
     "execution_count": 39,
     "metadata": {},
     "output_type": "execute_result"
    }
   ],
   "source": [
    "dict(f['analysis'])"
   ]
  },
  {
   "cell_type": "code",
   "execution_count": 94,
   "id": "3fef7e3d-3371-4245-bf03-b5db6e91ee40",
   "metadata": {},
   "outputs": [
    {
     "data": {
      "text/plain": [
       "array([(22050, b'7ef8db1194c43c0b55345fdb38f5e34c', 0., 367.49016, 0.322, 0., 0, 0, 0, 0, 0, 0, 0, 0, 0, 0, 0, 0, 0, 0, 0, 7, 0.115, -9.102, 1, 0.237, 356.333, 164.026, 1, 0., b'TRAOGTM128F931FABE')],\n",
       "      dtype=[('analysis_sample_rate', '<i4'), ('audio_md5', 'S32'), ('danceability', '<f8'), ('duration', '<f8'), ('end_of_fade_in', '<f8'), ('energy', '<f8'), ('idx_bars_confidence', '<i4'), ('idx_bars_start', '<i4'), ('idx_beats_confidence', '<i4'), ('idx_beats_start', '<i4'), ('idx_sections_confidence', '<i4'), ('idx_sections_start', '<i4'), ('idx_segments_confidence', '<i4'), ('idx_segments_loudness_max', '<i4'), ('idx_segments_loudness_max_time', '<i4'), ('idx_segments_loudness_start', '<i4'), ('idx_segments_pitches', '<i4'), ('idx_segments_start', '<i4'), ('idx_segments_timbre', '<i4'), ('idx_tatums_confidence', '<i4'), ('idx_tatums_start', '<i4'), ('key', '<i4'), ('key_confidence', '<f8'), ('loudness', '<f8'), ('mode', '<i4'), ('mode_confidence', '<f8'), ('start_of_fade_out', '<f8'), ('tempo', '<f8'), ('time_signature', '<i4'), ('time_signature_confidence', '<f8'), ('track_id', 'S32')])"
      ]
     },
     "execution_count": 94,
     "metadata": {},
     "output_type": "execute_result"
    }
   ],
   "source": [
    "f['analysis/songs'][:]"
   ]
  },
  {
   "cell_type": "code",
   "execution_count": 101,
   "id": "b4961bd3-bffe-40a3-bd8a-6acd7d546982",
   "metadata": {},
   "outputs": [
    {
     "data": {
      "text/plain": [
       "np.void((22050, b'7ef8db1194c43c0b55345fdb38f5e34c', 0.0, 367.49016, 0.322, 0.0, 0, 0, 0, 0, 0, 0, 0, 0, 0, 0, 0, 0, 0, 0, 0, 7, 0.115, -9.102, 1, 0.237, 356.333, 164.026, 1, 0.0, b'TRAOGTM128F931FABE'), dtype=[('analysis_sample_rate', '<i4'), ('audio_md5', 'S32'), ('danceability', '<f8'), ('duration', '<f8'), ('end_of_fade_in', '<f8'), ('energy', '<f8'), ('idx_bars_confidence', '<i4'), ('idx_bars_start', '<i4'), ('idx_beats_confidence', '<i4'), ('idx_beats_start', '<i4'), ('idx_sections_confidence', '<i4'), ('idx_sections_start', '<i4'), ('idx_segments_confidence', '<i4'), ('idx_segments_loudness_max', '<i4'), ('idx_segments_loudness_max_time', '<i4'), ('idx_segments_loudness_start', '<i4'), ('idx_segments_pitches', '<i4'), ('idx_segments_start', '<i4'), ('idx_segments_timbre', '<i4'), ('idx_tatums_confidence', '<i4'), ('idx_tatums_start', '<i4'), ('key', '<i4'), ('key_confidence', '<f8'), ('loudness', '<f8'), ('mode', '<i4'), ('mode_confidence', '<f8'), ('start_of_fade_out', '<f8'), ('tempo', '<f8'), ('time_signature', '<i4'), ('time_signature_confidence', '<f8'), ('track_id', 'S32')])"
      ]
     },
     "execution_count": 101,
     "metadata": {},
     "output_type": "execute_result"
    }
   ],
   "source": [
    "f['analysis/songs'][0]"
   ]
  },
  {
   "cell_type": "markdown",
   "id": "7ceaa273-55fd-4d20-8aba-8dbf38cbfce5",
   "metadata": {},
   "source": [
    "### Check metadata"
   ]
  },
  {
   "cell_type": "code",
   "execution_count": 77,
   "id": "f5778456-652b-40e7-9a0a-8a6ecf872427",
   "metadata": {},
   "outputs": [
    {
     "data": {
      "text/plain": [
       "{'artist_terms': <HDF5 dataset \"artist_terms\": shape (14,), type \"|S256\">,\n",
       " 'artist_terms_freq': <HDF5 dataset \"artist_terms_freq\": shape (14,), type \"<f8\">,\n",
       " 'artist_terms_weight': <HDF5 dataset \"artist_terms_weight\": shape (14,), type \"<f8\">,\n",
       " 'similar_artists': <HDF5 dataset \"similar_artists\": shape (100,), type \"|S20\">,\n",
       " 'songs': <HDF5 dataset \"songs\": shape (1,), type \"|V5320\">}"
      ]
     },
     "execution_count": 77,
     "metadata": {},
     "output_type": "execute_result"
    }
   ],
   "source": [
    "dict(f['metadata'])"
   ]
  },
  {
   "cell_type": "code",
   "execution_count": 78,
   "id": "15e43685-1716-446f-bfe6-e4a26e337927",
   "metadata": {},
   "outputs": [
    {
     "data": {
      "text/plain": [
       "array([b'glam rock', b'oi', b'hard rock', b'garage rock',\n",
       "       b'psychedelic rock', b'rock', b'new wave', b'punk', b'electronic',\n",
       "       b'pop', b'glam', b'70s', b'protopunk', b'glam punk'], dtype='|S256')"
      ]
     },
     "execution_count": 78,
     "metadata": {},
     "output_type": "execute_result"
    }
   ],
   "source": [
    "f['metadata/artist_terms'][:]"
   ]
  },
  {
   "cell_type": "code",
   "execution_count": 79,
   "id": "a206c80f-91b4-4675-97c6-3343e476bd71",
   "metadata": {},
   "outputs": [
    {
     "data": {
      "text/plain": [
       "array([0.8960933 , 0.80823471, 0.91909991, 0.80823471, 0.80823471,\n",
       "       1.        , 0.80823471, 0.87962203, 0.83060801, 0.80917254,\n",
       "       0.52515215, 0.6225758 , 0.49456085, 0.24347758])"
      ]
     },
     "execution_count": 79,
     "metadata": {},
     "output_type": "execute_result"
    }
   ],
   "source": [
    "f['metadata/artist_terms_freq'][:]"
   ]
  },
  {
   "cell_type": "code",
   "execution_count": 80,
   "id": "639ced49-a701-4558-b271-a4c300dcfe3a",
   "metadata": {},
   "outputs": [
    {
     "data": {
      "text/plain": [
       "array([0.8960933 , 0.80823471, 0.91909991, 0.80823471, 0.80823471,\n",
       "       1.        , 0.80823471, 0.87962203, 0.83060801, 0.80917254,\n",
       "       0.52515215, 0.6225758 , 0.49456085, 0.24347758])"
      ]
     },
     "execution_count": 80,
     "metadata": {},
     "output_type": "execute_result"
    }
   ],
   "source": [
    "f['metadata/artist_terms_freq'][:]"
   ]
  },
  {
   "cell_type": "code",
   "execution_count": 93,
   "id": "3a138fdb-4863-4a7b-8548-679b448a8361",
   "metadata": {},
   "outputs": [
    {
     "data": {
      "text/plain": [
       "(100,)"
      ]
     },
     "execution_count": 93,
     "metadata": {},
     "output_type": "execute_result"
    }
   ],
   "source": [
    "f['metadata/similar_artists'][:].shape"
   ]
  },
  {
   "cell_type": "code",
   "execution_count": 98,
   "id": "b3c4ae9c-5683-4c7e-a1af-3fd00176fe3c",
   "metadata": {},
   "outputs": [
    {
     "data": {
      "text/plain": [
       "array([(b'', 34924, 0.45312008, 0.36845509, b'ARE1DU51187B99BB83', nan, b'', nan, b'13b97071-47b4-4543-8db3-e2aea3355651', b'The Hollywood Brats', -1, b'', 0, 0, b'The Wonderful World Of Casino Steel', 628402, 0.270776, b'SOKRSWC12AB017D0E2', b\"Suckin' On Suzie\", 6974800)],\n",
       "      dtype=[('analyzer_version', 'S32'), ('artist_7digitalid', '<i4'), ('artist_familiarity', '<f8'), ('artist_hotttnesss', '<f8'), ('artist_id', 'S32'), ('artist_latitude', '<f8'), ('artist_location', 'S1024'), ('artist_longitude', '<f8'), ('artist_mbid', 'S40'), ('artist_name', 'S1024'), ('artist_playmeid', '<i4'), ('genre', 'S1024'), ('idx_artist_terms', '<i4'), ('idx_similar_artists', '<i4'), ('release', 'S1024'), ('release_7digitalid', '<i4'), ('song_hotttnesss', '<f8'), ('song_id', 'S32'), ('title', 'S1024'), ('track_7digitalid', '<i4')])"
      ]
     },
     "execution_count": 98,
     "metadata": {},
     "output_type": "execute_result"
    }
   ],
   "source": [
    "f['metadata/songs'][:]"
   ]
  },
  {
   "cell_type": "code",
   "execution_count": 88,
   "id": "aa687149-2264-4f57-9e6d-e9bf2c5fc8f0",
   "metadata": {},
   "outputs": [
    {
     "data": {
      "text/plain": [
       "np.void((b'', 34924, 0.4531200834872984, 0.3684550906517637, b'ARE1DU51187B99BB83', nan, b'', nan, b'13b97071-47b4-4543-8db3-e2aea3355651', b'The Hollywood Brats', -1, b'', 0, 0, b'The Wonderful World Of Casino Steel', 628402, 0.2707759989463275, b'SOKRSWC12AB017D0E2', b\"Suckin' On Suzie\", 6974800), dtype=[('analyzer_version', 'S32'), ('artist_7digitalid', '<i4'), ('artist_familiarity', '<f8'), ('artist_hotttnesss', '<f8'), ('artist_id', 'S32'), ('artist_latitude', '<f8'), ('artist_location', 'S1024'), ('artist_longitude', '<f8'), ('artist_mbid', 'S40'), ('artist_name', 'S1024'), ('artist_playmeid', '<i4'), ('genre', 'S1024'), ('idx_artist_terms', '<i4'), ('idx_similar_artists', '<i4'), ('release', 'S1024'), ('release_7digitalid', '<i4'), ('song_hotttnesss', '<f8'), ('song_id', 'S32'), ('title', 'S1024'), ('track_7digitalid', '<i4')])"
      ]
     },
     "execution_count": 88,
     "metadata": {},
     "output_type": "execute_result"
    }
   ],
   "source": [
    "f['metadata/songs'][0]"
   ]
  },
  {
   "cell_type": "markdown",
   "id": "911b11cd-160c-4e12-b13a-cb8e9ac9340d",
   "metadata": {},
   "source": [
    "### check music brainz"
   ]
  },
  {
   "cell_type": "code",
   "execution_count": 83,
   "id": "7e0e9e19-d221-4cde-90af-659e84dfdb61",
   "metadata": {},
   "outputs": [
    {
     "data": {
      "text/plain": [
       "{'artist_mbtags': <HDF5 dataset \"artist_mbtags\": shape (5,), type \"|S256\">,\n",
       " 'artist_mbtags_count': <HDF5 dataset \"artist_mbtags_count\": shape (5,), type \"<i4\">,\n",
       " 'songs': <HDF5 dataset \"songs\": shape (1,), type \"|V8\">}"
      ]
     },
     "execution_count": 83,
     "metadata": {},
     "output_type": "execute_result"
    }
   ],
   "source": [
    "dict(f['musicbrainz'])"
   ]
  },
  {
   "cell_type": "code",
   "execution_count": 84,
   "id": "26b481f0-d0fd-462b-9956-238c56f565be",
   "metadata": {},
   "outputs": [
    {
     "data": {
      "text/plain": [
       "array([b'uk', b'punk', b'rock', b'london', b'england'], dtype='|S256')"
      ]
     },
     "execution_count": 84,
     "metadata": {},
     "output_type": "execute_result"
    }
   ],
   "source": [
    "f['musicbrainz/artist_mbtags'][:]"
   ]
  },
  {
   "cell_type": "code",
   "execution_count": 85,
   "id": "0cab47f9-9aec-404b-b8e0-a77f668d3768",
   "metadata": {},
   "outputs": [
    {
     "data": {
      "text/plain": [
       "array([1, 1, 1, 1, 1], dtype=int32)"
      ]
     },
     "execution_count": 85,
     "metadata": {},
     "output_type": "execute_result"
    }
   ],
   "source": [
    "f['musicbrainz/artist_mbtags_count'][:]"
   ]
  },
  {
   "cell_type": "code",
   "execution_count": 86,
   "id": "007e99d4-4e13-4c30-9a12-ba296dbb5400",
   "metadata": {},
   "outputs": [
    {
     "data": {
      "text/plain": [
       "array([(0, 0)], dtype=[('idx_artist_mbtags', '<i4'), ('year', '<i4')])"
      ]
     },
     "execution_count": 86,
     "metadata": {},
     "output_type": "execute_result"
    }
   ],
   "source": [
    "f['musicbrainz/songs'][:]"
   ]
  },
  {
   "cell_type": "markdown",
   "id": "758cbd2f-4e3e-4369-9594-d6e0adfe41c8",
   "metadata": {},
   "source": [
    "### Analysis we use:\n",
    "- analysis_sample_rate\n",
    "- danceability\n",
    "- duration\n",
    "- end_of_fade_in\n",
    "- energy\n",
    "- idx_segments_loudness_max #\n",
    "- idx_segments_loudness_max_time #\n",
    "- idx_segments_loudness_start #\n",
    "- key\n",
    "- loudness\n",
    "- mode\n",
    "- tempo\n",
    "- time_signature\n",
    "\n",
    "We don't use array type value feature of the song"
   ]
  },
  {
   "cell_type": "code",
   "execution_count": 159,
   "id": "aadcf8e8-0c80-45d8-972d-c9e64a3e804c",
   "metadata": {},
   "outputs": [],
   "source": [
    "def single_hdf5_read_analysis(file):\n",
    "    dic = {'analysis_sample_rate': file['analysis/songs'][0][0],\n",
    "          'danceability': file['analysis/songs'][0][2],\n",
    "           'duration': file['analysis/songs'][0][3],\n",
    "           'end_of_fade_in': file['analysis/songs'][0][4],\n",
    "           'energy': file['analysis/songs'][0][5],\n",
    "           'key': file['analysis/songs'][0][21],\n",
    "           'loudness': file['analysis/songs'][0][23],\n",
    "           'mode': file['analysis/songs'][0][24],\n",
    "           'start_of_fade_out': file['analysis/songs'][0][26],\n",
    "           'tempo': file['analysis/songs'][0][27],\n",
    "           'time_signature': file['analysis/songs'][0][28],\n",
    "          }\n",
    "    return pd.DataFrame(dic, index = [0])"
   ]
  },
  {
   "cell_type": "code",
   "execution_count": 164,
   "id": "21cdc46d-d71d-454a-bfd2-f88594a6c6e5",
   "metadata": {},
   "outputs": [
    {
     "data": {
      "text/html": [
       "<div>\n",
       "<style scoped>\n",
       "    .dataframe tbody tr th:only-of-type {\n",
       "        vertical-align: middle;\n",
       "    }\n",
       "\n",
       "    .dataframe tbody tr th {\n",
       "        vertical-align: top;\n",
       "    }\n",
       "\n",
       "    .dataframe thead th {\n",
       "        text-align: right;\n",
       "    }\n",
       "</style>\n",
       "<table border=\"1\" class=\"dataframe\">\n",
       "  <thead>\n",
       "    <tr style=\"text-align: right;\">\n",
       "      <th></th>\n",
       "      <th>analysis_sample_rate</th>\n",
       "      <th>danceability</th>\n",
       "      <th>duration</th>\n",
       "      <th>end_of_fade_in</th>\n",
       "      <th>energy</th>\n",
       "      <th>key</th>\n",
       "      <th>loudness</th>\n",
       "      <th>mode</th>\n",
       "      <th>start_of_fade_out</th>\n",
       "      <th>tempo</th>\n",
       "      <th>time_signature</th>\n",
       "    </tr>\n",
       "  </thead>\n",
       "  <tbody>\n",
       "    <tr>\n",
       "      <th>0</th>\n",
       "      <td>22050</td>\n",
       "      <td>0.0</td>\n",
       "      <td>367.49016</td>\n",
       "      <td>0.322</td>\n",
       "      <td>0.0</td>\n",
       "      <td>7</td>\n",
       "      <td>-9.102</td>\n",
       "      <td>1</td>\n",
       "      <td>356.333</td>\n",
       "      <td>164.026</td>\n",
       "      <td>1</td>\n",
       "    </tr>\n",
       "  </tbody>\n",
       "</table>\n",
       "</div>"
      ],
      "text/plain": [
       "   analysis_sample_rate  danceability   duration  end_of_fade_in  energy  key  \\\n",
       "0                 22050           0.0  367.49016           0.322     0.0    7   \n",
       "\n",
       "   loudness  mode  start_of_fade_out    tempo  time_signature  \n",
       "0    -9.102     1            356.333  164.026               1  "
      ]
     },
     "execution_count": 164,
     "metadata": {},
     "output_type": "execute_result"
    }
   ],
   "source": [
    "row_1 = single_hdf5_read_analysis(f)\n",
    "row_1"
   ]
  },
  {
   "cell_type": "code",
   "execution_count": 161,
   "id": "f6d61b37-faa1-49b2-9ab3-4a2dcb2dfa99",
   "metadata": {},
   "outputs": [],
   "source": [
    "path = 'D:/songdata/MillionSongSubset/A/O/G/TRAOGVB128F92D5779.h5'\n",
    "f1 = h5py.File(path, 'r')"
   ]
  },
  {
   "cell_type": "code",
   "execution_count": 165,
   "id": "67809cb7-0e34-4c41-9f18-663722e36237",
   "metadata": {},
   "outputs": [
    {
     "data": {
      "text/html": [
       "<div>\n",
       "<style scoped>\n",
       "    .dataframe tbody tr th:only-of-type {\n",
       "        vertical-align: middle;\n",
       "    }\n",
       "\n",
       "    .dataframe tbody tr th {\n",
       "        vertical-align: top;\n",
       "    }\n",
       "\n",
       "    .dataframe thead th {\n",
       "        text-align: right;\n",
       "    }\n",
       "</style>\n",
       "<table border=\"1\" class=\"dataframe\">\n",
       "  <thead>\n",
       "    <tr style=\"text-align: right;\">\n",
       "      <th></th>\n",
       "      <th>analysis_sample_rate</th>\n",
       "      <th>danceability</th>\n",
       "      <th>duration</th>\n",
       "      <th>end_of_fade_in</th>\n",
       "      <th>energy</th>\n",
       "      <th>key</th>\n",
       "      <th>loudness</th>\n",
       "      <th>mode</th>\n",
       "      <th>start_of_fade_out</th>\n",
       "      <th>tempo</th>\n",
       "      <th>time_signature</th>\n",
       "    </tr>\n",
       "  </thead>\n",
       "  <tbody>\n",
       "    <tr>\n",
       "      <th>0</th>\n",
       "      <td>22050</td>\n",
       "      <td>0.0</td>\n",
       "      <td>103.47057</td>\n",
       "      <td>0.0</td>\n",
       "      <td>0.0</td>\n",
       "      <td>5</td>\n",
       "      <td>-6.302</td>\n",
       "      <td>1</td>\n",
       "      <td>103.471</td>\n",
       "      <td>111.042</td>\n",
       "      <td>1</td>\n",
       "    </tr>\n",
       "  </tbody>\n",
       "</table>\n",
       "</div>"
      ],
      "text/plain": [
       "   analysis_sample_rate  danceability   duration  end_of_fade_in  energy  key  \\\n",
       "0                 22050           0.0  103.47057             0.0     0.0    5   \n",
       "\n",
       "   loudness  mode  start_of_fade_out    tempo  time_signature  \n",
       "0    -6.302     1            103.471  111.042               1  "
      ]
     },
     "execution_count": 165,
     "metadata": {},
     "output_type": "execute_result"
    }
   ],
   "source": [
    "row_2 = single_hdf5_read_analysis(f1)\n",
    "row_2"
   ]
  },
  {
   "cell_type": "code",
   "execution_count": 168,
   "id": "b75a780c-a430-413f-a4f4-eccccead82c2",
   "metadata": {},
   "outputs": [
    {
     "data": {
      "text/html": [
       "<div>\n",
       "<style scoped>\n",
       "    .dataframe tbody tr th:only-of-type {\n",
       "        vertical-align: middle;\n",
       "    }\n",
       "\n",
       "    .dataframe tbody tr th {\n",
       "        vertical-align: top;\n",
       "    }\n",
       "\n",
       "    .dataframe thead th {\n",
       "        text-align: right;\n",
       "    }\n",
       "</style>\n",
       "<table border=\"1\" class=\"dataframe\">\n",
       "  <thead>\n",
       "    <tr style=\"text-align: right;\">\n",
       "      <th></th>\n",
       "      <th>analysis_sample_rate</th>\n",
       "      <th>danceability</th>\n",
       "      <th>duration</th>\n",
       "      <th>end_of_fade_in</th>\n",
       "      <th>energy</th>\n",
       "      <th>key</th>\n",
       "      <th>loudness</th>\n",
       "      <th>mode</th>\n",
       "      <th>start_of_fade_out</th>\n",
       "      <th>tempo</th>\n",
       "      <th>time_signature</th>\n",
       "    </tr>\n",
       "  </thead>\n",
       "  <tbody>\n",
       "    <tr>\n",
       "      <th>0</th>\n",
       "      <td>22050</td>\n",
       "      <td>0.0</td>\n",
       "      <td>367.49016</td>\n",
       "      <td>0.322</td>\n",
       "      <td>0.0</td>\n",
       "      <td>7</td>\n",
       "      <td>-9.102</td>\n",
       "      <td>1</td>\n",
       "      <td>356.333</td>\n",
       "      <td>164.026</td>\n",
       "      <td>1</td>\n",
       "    </tr>\n",
       "    <tr>\n",
       "      <th>1</th>\n",
       "      <td>22050</td>\n",
       "      <td>0.0</td>\n",
       "      <td>103.47057</td>\n",
       "      <td>0.000</td>\n",
       "      <td>0.0</td>\n",
       "      <td>5</td>\n",
       "      <td>-6.302</td>\n",
       "      <td>1</td>\n",
       "      <td>103.471</td>\n",
       "      <td>111.042</td>\n",
       "      <td>1</td>\n",
       "    </tr>\n",
       "  </tbody>\n",
       "</table>\n",
       "</div>"
      ],
      "text/plain": [
       "   analysis_sample_rate  danceability   duration  end_of_fade_in  energy  key  \\\n",
       "0                 22050           0.0  367.49016           0.322     0.0    7   \n",
       "1                 22050           0.0  103.47057           0.000     0.0    5   \n",
       "\n",
       "   loudness  mode  start_of_fade_out    tempo  time_signature  \n",
       "0    -9.102     1            356.333  164.026               1  \n",
       "1    -6.302     1            103.471  111.042               1  "
      ]
     },
     "execution_count": 168,
     "metadata": {},
     "output_type": "execute_result"
    }
   ],
   "source": [
    "pd.concat([row_1, row_2], ignore_index = True)"
   ]
  },
  {
   "cell_type": "markdown",
   "id": "fa8c1830-97df-479c-8198-d497ae8d0e93",
   "metadata": {},
   "source": [
    "### Metadata we use:\n",
    "- artist_familiarity\n",
    "- artist_hotttnesss\n",
    "- artist_latitude\n",
    "- artist_location\n",
    "- artist_longitude\n",
    "- artist_name\n",
    "- genre\n",
    "- release\n",
    "- song_hotttnesss\n",
    "- title"
   ]
  },
  {
   "cell_type": "code",
   "execution_count": 181,
   "id": "aa611fe7-af29-4edd-a243-a14120b34e5e",
   "metadata": {},
   "outputs": [],
   "source": [
    "def single_hdf5_read_metadata_songs(file):\n",
    "    dic = {'artist_familiarity': file['metadata/songs'][0][2],\n",
    "          'artist_hotttnesss': file['metadata/songs'][0][3],\n",
    "           'artist_latitude': file['metadata/songs'][0][5],\n",
    "           'artist_location': file['metadata/songs'][0][6],\n",
    "           'artist_longitude': file['metadata/songs'][0][7],\n",
    "           'artist_name': file['metadata/songs'][0][9],\n",
    "           'genre': file['metadata/songs'][0][11],\n",
    "           'release': file['metadata/songs'][0][14],\n",
    "           'song_hotttnesss': file['metadata/songs'][0][16],\n",
    "           'title': file['metadata/songs'][0][18]\n",
    "          }\n",
    "    return pd.DataFrame(dic, index = [0])"
   ]
  },
  {
   "cell_type": "code",
   "execution_count": 182,
   "id": "1ed5afa1-1865-4769-b3dd-462f9ce26a04",
   "metadata": {},
   "outputs": [
    {
     "data": {
      "text/html": [
       "<div>\n",
       "<style scoped>\n",
       "    .dataframe tbody tr th:only-of-type {\n",
       "        vertical-align: middle;\n",
       "    }\n",
       "\n",
       "    .dataframe tbody tr th {\n",
       "        vertical-align: top;\n",
       "    }\n",
       "\n",
       "    .dataframe thead th {\n",
       "        text-align: right;\n",
       "    }\n",
       "</style>\n",
       "<table border=\"1\" class=\"dataframe\">\n",
       "  <thead>\n",
       "    <tr style=\"text-align: right;\">\n",
       "      <th></th>\n",
       "      <th>artist_familiarity</th>\n",
       "      <th>artist_hotttnesss</th>\n",
       "      <th>artist_latitude</th>\n",
       "      <th>artist_location</th>\n",
       "      <th>artist_longitude</th>\n",
       "      <th>artist_name</th>\n",
       "      <th>genre</th>\n",
       "      <th>release</th>\n",
       "      <th>song_hotttnesss</th>\n",
       "      <th>title</th>\n",
       "    </tr>\n",
       "  </thead>\n",
       "  <tbody>\n",
       "    <tr>\n",
       "      <th>0</th>\n",
       "      <td>0.45312</td>\n",
       "      <td>0.368455</td>\n",
       "      <td>NaN</td>\n",
       "      <td>b''</td>\n",
       "      <td>NaN</td>\n",
       "      <td>b'The Hollywood Brats'</td>\n",
       "      <td>b''</td>\n",
       "      <td>b'The Wonderful World Of Casino Steel'</td>\n",
       "      <td>0.270776</td>\n",
       "      <td>b\"Suckin' On Suzie\"</td>\n",
       "    </tr>\n",
       "  </tbody>\n",
       "</table>\n",
       "</div>"
      ],
      "text/plain": [
       "   artist_familiarity  artist_hotttnesss  artist_latitude artist_location  \\\n",
       "0             0.45312           0.368455              NaN             b''   \n",
       "\n",
       "   artist_longitude             artist_name genre  \\\n",
       "0               NaN  b'The Hollywood Brats'   b''   \n",
       "\n",
       "                                  release  song_hotttnesss  \\\n",
       "0  b'The Wonderful World Of Casino Steel'         0.270776   \n",
       "\n",
       "                 title  \n",
       "0  b\"Suckin' On Suzie\"  "
      ]
     },
     "execution_count": 182,
     "metadata": {},
     "output_type": "execute_result"
    }
   ],
   "source": [
    "single_hdf5_read_metadata_songs(f)"
   ]
  },
  {
   "cell_type": "markdown",
   "id": "acaa0c7c-e977-48c1-8aca-90b7175b0581",
   "metadata": {},
   "source": [
    "# <span style=\"color:red\">待解决"
   ]
  },
  {
   "cell_type": "code",
   "execution_count": 209,
   "id": "426b786b-fba8-4a87-a600-0a0d6af3263f",
   "metadata": {},
   "outputs": [],
   "source": [
    "def single_hdf5_read_metadata_artist_terms_top10(file):\n",
    "    artist_tag_keys = ['tag_top1','tag_top2','tag_top3','tag_top4','tag_top5','tag_top6','tag_top7','tag_top8','tag_top9','tag_top10']\n",
    "    dic = dict.fromkeys(artist_tag_keys)\n",
    "    dic['tag_top1'] = file['metadata/artist_terms'][:10][0]\n",
    "    dic['tag_top2'] = file['metadata/artist_terms'][:10][1]\n",
    "    dic['tag_top3'] = file['metadata/artist_terms'][:10][2]\n",
    "    dic['tag_top4'] = file['metadata/artist_terms'][:10][3]\n",
    "    dic['tag_top5'] = file['metadata/artist_terms'][:10][4]\n",
    "    dic['tag_top6'] = file['metadata/artist_terms'][:10][5]\n",
    "    dic['tag_top7'] = file['metadata/artist_terms'][:10][6]\n",
    "    dic['tag_top8'] = file['metadata/artist_terms'][:10][7]\n",
    "    dic['tag_top9'] = file['metadata/artist_terms'][:10][8]\n",
    "    dic['tag_top10'] = file['metadata/artist_terms'][:10][9]"
   ]
  },
  {
   "cell_type": "code",
   "execution_count": 203,
   "id": "3aed193b-1c58-46e6-a4fb-a5c0f18a55bd",
   "metadata": {},
   "outputs": [
    {
     "data": {
      "text/plain": [
       "{'tag_top1': None,\n",
       " 'tag_top2': None,\n",
       " 'tag_top3': None,\n",
       " 'tag_top4': None,\n",
       " 'tag_top5': None,\n",
       " 'tag_top6': None,\n",
       " 'tag_top7': None,\n",
       " 'tag_top8': None,\n",
       " 'tag_top9': None,\n",
       " 'tag_top10': None}"
      ]
     },
     "execution_count": 203,
     "metadata": {},
     "output_type": "execute_result"
    }
   ],
   "source": [
    "artist_tag_keys = ['tag_top1','tag_top2','tag_top3','tag_top4','tag_top5','tag_top6','tag_top7','tag_top8','tag_top9','tag_top10']\n",
    "dic = dict.fromkeys(artist_tag_keys)"
   ]
  },
  {
   "cell_type": "code",
   "execution_count": 206,
   "id": "d1d79145-8d42-4112-9ea3-558c62681a9f",
   "metadata": {},
   "outputs": [
    {
     "ename": "KeyError",
     "evalue": "1",
     "output_type": "error",
     "traceback": [
      "\u001b[1;31m---------------------------------------------------------------------------\u001b[0m",
      "\u001b[1;31mKeyError\u001b[0m                                  Traceback (most recent call last)",
      "Cell \u001b[1;32mIn[206], line 1\u001b[0m\n\u001b[1;32m----> 1\u001b[0m \u001b[43mdic\u001b[49m\u001b[43m[\u001b[49m\u001b[38;5;241;43m1\u001b[39;49m\u001b[43m]\u001b[49m\n",
      "\u001b[1;31mKeyError\u001b[0m: 1"
     ]
    }
   ],
   "source": [
    "dic[1]"
   ]
  },
  {
   "cell_type": "code",
   "execution_count": null,
   "id": "bde313cb-c2aa-4ff9-9e79-04f4326ac8a9",
   "metadata": {},
   "outputs": [],
   "source": [
    "def "
   ]
  },
  {
   "cell_type": "code",
   "execution_count": null,
   "id": "fb416cf9-1fd9-4a6e-9c44-38c76d38d031",
   "metadata": {},
   "outputs": [],
   "source": []
  },
  {
   "cell_type": "code",
   "execution_count": null,
   "id": "649a8ba4-d63e-42e8-980e-ce068885520b",
   "metadata": {},
   "outputs": [],
   "source": []
  },
  {
   "cell_type": "code",
   "execution_count": null,
   "id": "6aee3669-e6c7-4dec-8b31-64850ca9e9e4",
   "metadata": {},
   "outputs": [],
   "source": []
  },
  {
   "cell_type": "code",
   "execution_count": 208,
   "id": "9cd94915-71c0-4efe-b079-a4b1df8ca94a",
   "metadata": {},
   "outputs": [
    {
     "data": {
      "text/plain": [
       "array([b'glam rock', b'oi', b'hard rock', b'garage rock',\n",
       "       b'psychedelic rock', b'rock', b'new wave', b'punk', b'electronic',\n",
       "       b'pop'], dtype='|S256')"
      ]
     },
     "execution_count": 208,
     "metadata": {},
     "output_type": "execute_result"
    }
   ],
   "source": [
    "f['metadata/artist_terms'][:10]"
   ]
  },
  {
   "cell_type": "code",
   "execution_count": 204,
   "id": "805fe252-ed87-481c-bbdf-4eae3a52462c",
   "metadata": {},
   "outputs": [
    {
     "data": {
      "text/plain": [
       "[(0, np.bytes_(b'glam rock')),\n",
       " (1, np.bytes_(b'oi')),\n",
       " (2, np.bytes_(b'hard rock')),\n",
       " (3, np.bytes_(b'garage rock')),\n",
       " (4, np.bytes_(b'psychedelic rock')),\n",
       " (5, np.bytes_(b'rock')),\n",
       " (6, np.bytes_(b'new wave')),\n",
       " (7, np.bytes_(b'punk')),\n",
       " (8, np.bytes_(b'electronic')),\n",
       " (9, np.bytes_(b'pop'))]"
      ]
     },
     "execution_count": 204,
     "metadata": {},
     "output_type": "execute_result"
    }
   ],
   "source": [
    "[ tag for tag in enumerate(f['metadata/artist_terms'][:10])]"
   ]
  },
  {
   "cell_type": "code",
   "execution_count": 170,
   "id": "2b68abb4-b0b5-44c1-b34b-e021c461e8af",
   "metadata": {},
   "outputs": [
    {
     "data": {
      "text/plain": [
       "dtype([('analyzer_version', 'S32'), ('artist_7digitalid', '<i4'), ('artist_familiarity', '<f8'), ('artist_hotttnesss', '<f8'), ('artist_id', 'S32'), ('artist_latitude', '<f8'), ('artist_location', 'S1024'), ('artist_longitude', '<f8'), ('artist_mbid', 'S40'), ('artist_name', 'S1024'), ('artist_playmeid', '<i4'), ('genre', 'S1024'), ('idx_artist_terms', '<i4'), ('idx_similar_artists', '<i4'), ('release', 'S1024'), ('release_7digitalid', '<i4'), ('song_hotttnesss', '<f8'), ('song_id', 'S32'), ('title', 'S1024'), ('track_7digitalid', '<i4')])"
      ]
     },
     "execution_count": 170,
     "metadata": {},
     "output_type": "execute_result"
    }
   ],
   "source": [
    "f['metadata/songs'][:].dtype"
   ]
  },
  {
   "cell_type": "code",
   "execution_count": 212,
   "id": "bb6bbe33-2f2b-4a39-82f7-fe90b95472e8",
   "metadata": {},
   "outputs": [
    {
     "ename": "IndexError",
     "evalue": "list index out of range",
     "output_type": "error",
     "traceback": [
      "\u001b[1;31m---------------------------------------------------------------------------\u001b[0m",
      "\u001b[1;31mIndexError\u001b[0m                                Traceback (most recent call last)",
      "Cell \u001b[1;32mIn[212], line 1\u001b[0m\n\u001b[1;32m----> 1\u001b[0m \u001b[43ma\u001b[49m\u001b[43m[\u001b[49m\u001b[43m:\u001b[49m\u001b[38;5;241;43m10\u001b[39;49m\u001b[43m]\u001b[49m\u001b[43m[\u001b[49m\u001b[38;5;241;43m9\u001b[39;49m\u001b[43m]\u001b[49m\n",
      "\u001b[1;31mIndexError\u001b[0m: list index out of range"
     ]
    }
   ],
   "source": [
    "a[:10][9]"
   ]
  },
  {
   "cell_type": "code",
   "execution_count": null,
   "id": "8104743f-7a0f-46ba-a13f-829eac793140",
   "metadata": {},
   "outputs": [],
   "source": []
  }
 ],
 "metadata": {
  "kernelspec": {
   "display_name": "Python 3 (ipykernel)",
   "language": "python",
   "name": "python3"
  },
  "language_info": {
   "codemirror_mode": {
    "name": "ipython",
    "version": 3
   },
   "file_extension": ".py",
   "mimetype": "text/x-python",
   "name": "python",
   "nbconvert_exporter": "python",
   "pygments_lexer": "ipython3",
   "version": "3.12.8"
  }
 },
 "nbformat": 4,
 "nbformat_minor": 5
}
