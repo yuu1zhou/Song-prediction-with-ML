{
 "cells": [
  {
   "cell_type": "markdown",
   "id": "ad2ebf80",
   "metadata": {},
   "source": [
    "# PCA section"
   ]
  },
  {
   "cell_type": "code",
   "execution_count": null,
   "id": "f7052b78",
   "metadata": {},
   "outputs": [],
   "source": [
    "from sklearn.decomposition import PCA\n",
    "\n",
    "pca = PCA()\n",
    "pca.fit(X_train_selected_lasso)"
   ]
  },
  {
   "cell_type": "code",
   "execution_count": null,
   "id": "18787371",
   "metadata": {},
   "outputs": [],
   "source": [
    "explained_var_lis = np.cumsum(pca.explained_variance_ratio_)\n",
    "dim_lis = np.array(range(76)) + 1"
   ]
  },
  {
   "cell_type": "code",
   "execution_count": null,
   "id": "370f5725",
   "metadata": {},
   "outputs": [],
   "source": [
    "elbow_idx= np.argmax(explained_var_lis >= 0.95) + 1\n",
    "print(\"elbow index: \", elbow_idx)\n",
    "elbow_value = explained_var_lis[elbow_idx - 1]"
   ]
  },
  {
   "cell_type": "code",
   "execution_count": null,
   "id": "d0e8c4a9",
   "metadata": {},
   "outputs": [],
   "source": [
    "fig, ax = plt.subplots()\n",
    "ax.plot(dim_lis,explained_var_lis, linewidth=3, color = \"maroon\")\n",
    "ax.set_ylabel(\"Explained variance\")\n",
    "ax.set_xlabel(\"Dimensions\")\n",
    "\n",
    "plt.scatter(elbow_idx, elbow_value, color = \"green\", s =100)\n",
    "ax.plot([elbow_idx, elbow_idx], [0, elbow_value], linestyle = '--', color = 'grey')\n",
    "ax.plot([0,elbow_idx], [elbow_value, elbow_value], linestyle = '--', color = \"grey\")\n",
    "ax.set_xlim(left=0)\n",
    "ax.set_ylim(bottom=0)\n",
    "plt.show()"
   ]
  },
  {
   "cell_type": "markdown",
   "id": "62da3865",
   "metadata": {},
   "source": [
    "Therefore we reduced original data dimension to 189 by applying PCA"
   ]
  },
  {
   "cell_type": "code",
   "execution_count": null,
   "id": "fc905996",
   "metadata": {},
   "outputs": [],
   "source": [
    "X_train_pca = PCA(n_components= 38).fit_transform(X_train_selected_lasso)"
   ]
  },
  {
   "cell_type": "code",
   "execution_count": null,
   "id": "4f809291",
   "metadata": {},
   "outputs": [],
   "source": [
    "X_train_pca.shape"
   ]
  },
  {
   "cell_type": "markdown",
   "id": "41915263",
   "metadata": {},
   "source": [
    "# Forward step-wise section"
   ]
  },
  {
   "cell_type": "markdown",
   "id": "54535d5f",
   "metadata": {},
   "source": [
    "However, after visualizing both the cross-validation and training errors against the number of features, we observed that the model's cross-validation error started to gradually decrease around 170 features and began to increase around 240 features, indicating the sign of overfitting"
   ]
  },
  {
   "cell_type": "markdown",
   "id": "384b9354",
   "metadata": {},
   "source": [
    "Based on the zoom-in plot, we observed that the cross-validation error decreased slowly, indicating that increasing the number of features provided little improvement to model performance. So we decideed to set the number of selected forward stepwise features to 170"
   ]
  },
  {
   "cell_type": "code",
   "execution_count": null,
   "id": "02d77da2",
   "metadata": {},
   "outputs": [],
   "source": [
    "fig,ax = plt.subplots()\n",
    "ax.plot(feature_num_lis, training_error_lis, label= \"training error\", color = \"navy\")\n",
    "ax.plot(feature_num_lis, cv_error_lis, label = \"cross validation error\", color = \"magenta\")\n",
    "ax.set(xlim=(120,190))\n",
    "ax.set_ylabel(\"Error\")\n",
    "ax.set_xlabel(\"Number of features\")\n",
    "ax.legend()\n",
    "plt.show()"
   ]
  }
 ],
 "metadata": {
  "language_info": {
   "name": "python"
  }
 },
 "nbformat": 4,
 "nbformat_minor": 5
}
